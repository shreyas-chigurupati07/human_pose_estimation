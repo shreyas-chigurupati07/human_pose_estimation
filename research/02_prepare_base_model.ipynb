{
 "cells": [
  {
   "cell_type": "code",
   "execution_count": 1,
   "metadata": {},
   "outputs": [
    {
     "name": "stdout",
     "output_type": "stream",
     "text": [
      "/Users/shrey/Desktop/github/human_pose_estimation\n"
     ]
    }
   ],
   "source": [
    "import os\n",
    "os.chdir('../')\n",
    "!pwd"
   ]
  },
  {
   "cell_type": "code",
   "execution_count": 2,
   "metadata": {},
   "outputs": [],
   "source": [
    "from dataclasses import dataclass\n",
    "from pathlib import Path\n",
    "\n",
    "@dataclass(frozen=True)\n",
    "class PoseEstimationConfig:\n",
    "    root_dir: Path\n",
    "    base_model_path: Path\n",
    "    updated_base_model_path: Path\n",
    "    params_image_size: list\n",
    "    params_learning_rate: float\n",
    "    params_weights: str\n",
    "    params_confidence_threshold: float\n",
    "    params_batch_size: int\n",
    "    params_augmentation: bool\n",
    "    params_model_type: str\n",
    "    params_keypoints: int"
   ]
  },
  {
   "cell_type": "code",
   "execution_count": 3,
   "metadata": {},
   "outputs": [],
   "source": [
    "from cnnEstimation.constants import *\n",
    "from cnnEstimation.utils.common import read_yaml, create_dir\n",
    "\n",
    "\n",
    "class ConfigurationManager:\n",
    "    def __init__(self,\n",
    "                 config_filepath = CONFIG_FILE_PATH,\n",
    "                 params_filepath = PARAMS_FILE_PATH):\n",
    "        self.config = read_yaml(config_filepath)\n",
    "        self.params = read_yaml(params_filepath)\n",
    "        create_dir([self.config.artifacts_root])\n",
    "\n",
    "\n",
    "    def get_pose_estimation_config(self) -> PoseEstimationConfig:\n",
    "        config = self.config.pose_estimation\n",
    "\n",
    "        create_dir([config.root_dir])\n",
    "\n",
    "        prepare_base_model_config = PoseEstimationConfig(\n",
    "            root_dir = Path(config.root_dir),\n",
    "            base_model_path = Path(config.base_model_path),\n",
    "            updated_base_model_path = Path(config.updated_base_model_path),\n",
    "            params_image_size = self.params.IMAGE_SIZE,\n",
    "            params_learning_rate = self.params.LEARNING_RATE,\n",
    "            params_weights = self.params.WEIGHTS,\n",
    "            params_confidence_threshold = self.params.CONFIDENCE_THRESHOLD,\n",
    "            params_batch_size = self.params.BATCH_SIZE,\n",
    "            params_augmentation = self.params.AUGMENTATION,\n",
    "            params_model_type = self.params.MODEL_TYPE,\n",
    "            params_keypoints = self.params.KEYPOINTS\n",
    "        )\n",
    "        return prepare_base_model_config"
   ]
  },
  {
   "cell_type": "code",
   "execution_count": 4,
   "metadata": {},
   "outputs": [],
   "source": [
    "import tensorflow as tf\n",
    "import tensorflow_hub as hub\n",
    "import tensorflow.lite as tflite\n",
    "from pathlib import Path\n",
    "from cnnEstimation import logger\n",
    "import requests\n",
    "\n",
    "\n",
    "class PreparePoseEstimationModel:\n",
    "    def __init__(self, config):\n",
    "        self.config = config\n",
    "        self.model = None\n",
    "\n",
    "\n",
    "    def get_base_model(self):\n",
    "        \"\"\"\n",
    "        Loads the MoveNet model from TensorFlow Lite.\n",
    "        If the model does not exist or is a directory, it downloads the correct file.\n",
    "        \"\"\"\n",
    "        model_type = self.config.params_model_type.lower()\n",
    "        model_path = Path(self.config.base_model_path)\n",
    "\n",
    "        if model_path.is_dir():\n",
    "            logger.warning(f\"❌ {model_path} is a directory. Removing it...\")\n",
    "            os.rmdir(model_path)\n",
    "\n",
    "        if not model_path.exists():\n",
    "            logger.info(f\"Downloading MoveNet model: {model_type}\")\n",
    "            self.download_tflite_model(model_type, model_path)\n",
    "\n",
    "        try:\n",
    "            self.model = tflite.Interpreter(model_path=str(model_path))\n",
    "            self.model.allocate_tensors()\n",
    "            logger.info(f\"✅ Loaded MoveNet TFLite model from {model_path}\")\n",
    "        except Exception as e:\n",
    "            logger.error(f\"❌ Error loading MoveNet model: {str(e)}\")\n",
    "            raise RuntimeError(\"Failed to load MoveNet model.\")\n",
    "\n",
    "    def download_tflite_model(self, model_type, save_path):\n",
    "        model_urls = {\n",
    "            \"movenet_lightning\": \"https://storage.googleapis.com/movenet_models/movenet_lightning.tflite\",\n",
    "            \"movenet_thunder\": \"https://storage.googleapis.com/movenet_models/movenet_thunder.tflite\"\n",
    "        }\n",
    "\n",
    "        url = model_urls.get(model_type)\n",
    "        if url is None:\n",
    "            raise ValueError(\"Invalid MoveNet model type. Choose 'movenet_lightning' or 'movenet_thunder'.\")\n",
    "\n",
    "        response = requests.get(url, stream=True)\n",
    "        \n",
    "        # ✅ Write file in binary mode\n",
    "        with open(save_path, \"wb\") as f:\n",
    "            for chunk in response.iter_content(chunk_size=8192):\n",
    "                f.write(chunk)\n",
    "\n",
    "        # ✅ Validate file size (MoveNet models are around ~4MB)\n",
    "        if os.path.getsize(save_path) < 1000:\n",
    "            print(f\"❌ Error: {save_path} is too small! The download might be incomplete.\")\n",
    "            os.remove(save_path)  # Delete corrupted file\n",
    "            raise RuntimeError(\"Downloaded MoveNet model is invalid.\")\n",
    "\n",
    "        print(f\"✅ MoveNet {model_type} model downloaded successfully to {save_path}\")\n",
    "\n",
    "    def load_saved_model(self):\n",
    "        \"\"\"\n",
    "        Loads a previously saved MoveNet model.\n",
    "        \"\"\"\n",
    "        model_path = Path(self.config.base_model_path)\n",
    "\n",
    "        if not model_path.exists():\n",
    "            raise FileNotFoundError(f\"Saved model not found at {model_path}\")\n",
    "\n",
    "        try:\n",
    "            if model_path.suffix == \".tflite\":\n",
    "                self.model = tflite.Interpreter(model_path=str(model_path))\n",
    "                self.model.allocate_tensors()\n",
    "                logger.info(f\"TFLite model loaded from {model_path}\")\n",
    "            else:\n",
    "                self.model = hub.load(str(model_path))\n",
    "                logger.info(f\"MoveNet model loaded from {model_path}\")\n",
    "        except Exception as e:\n",
    "            logger.error(f\"Error loading saved model: {str(e)}\")\n",
    "            raise RuntimeError(\"Failed to load MoveNet model.\")\n"
   ]
  },
  {
   "cell_type": "code",
   "execution_count": 5,
   "metadata": {},
   "outputs": [
    {
     "name": "stderr",
     "output_type": "stream",
     "text": [
      "[2025-01-31 13:18:58,745 - INFO - common - YAML file loaded successfully: config/config.yaml]\n",
      "[2025-01-31 13:18:58,747 - INFO - common - YAML file loaded successfully: params.yaml]\n",
      "[2025-01-31 13:18:58,747 - INFO - common - Directory created successfully: artifacts]\n",
      "[2025-01-31 13:18:58,748 - INFO - common - Directory created successfully: artifacts/pose_estimation]\n",
      "[2025-01-31 13:18:58,749 - INFO - 2900733022 - Downloading MoveNet model: movenet_lightning]\n"
     ]
    },
    {
     "name": "stdout",
     "output_type": "stream",
     "text": [
      "❌ Error: artifacts/pose_estimation/movenet_model.tflite is too small! The download might be incomplete.\n"
     ]
    },
    {
     "ename": "RuntimeError",
     "evalue": "Downloaded MoveNet model is invalid.",
     "output_type": "error",
     "traceback": [
      "\u001b[0;31m---------------------------------------------------------------------------\u001b[0m",
      "\u001b[0;31mRuntimeError\u001b[0m                              Traceback (most recent call last)",
      "Cell \u001b[0;32mIn[5], line 7\u001b[0m\n\u001b[1;32m      5\u001b[0m     prepare_pose_estimation_model\u001b[38;5;241m.\u001b[39mget_base_model()\n\u001b[1;32m      6\u001b[0m \u001b[38;5;28;01mexcept\u001b[39;00m \u001b[38;5;167;01mException\u001b[39;00m \u001b[38;5;28;01mas\u001b[39;00m e:\n\u001b[0;32m----> 7\u001b[0m     \u001b[38;5;28;01mraise\u001b[39;00m e\n",
      "Cell \u001b[0;32mIn[5], line 5\u001b[0m\n\u001b[1;32m      3\u001b[0m     prepare_pose_estimation_model_config \u001b[38;5;241m=\u001b[39m config\u001b[38;5;241m.\u001b[39mget_pose_estimation_config()\n\u001b[1;32m      4\u001b[0m     prepare_pose_estimation_model \u001b[38;5;241m=\u001b[39m PreparePoseEstimationModel(prepare_pose_estimation_model_config)\n\u001b[0;32m----> 5\u001b[0m     \u001b[43mprepare_pose_estimation_model\u001b[49m\u001b[38;5;241;43m.\u001b[39;49m\u001b[43mget_base_model\u001b[49m\u001b[43m(\u001b[49m\u001b[43m)\u001b[49m\n\u001b[1;32m      6\u001b[0m \u001b[38;5;28;01mexcept\u001b[39;00m \u001b[38;5;167;01mException\u001b[39;00m \u001b[38;5;28;01mas\u001b[39;00m e:\n\u001b[1;32m      7\u001b[0m     \u001b[38;5;28;01mraise\u001b[39;00m e\n",
      "Cell \u001b[0;32mIn[4], line 29\u001b[0m, in \u001b[0;36mPreparePoseEstimationModel.get_base_model\u001b[0;34m(self)\u001b[0m\n\u001b[1;32m     27\u001b[0m \u001b[38;5;28;01mif\u001b[39;00m \u001b[38;5;129;01mnot\u001b[39;00m model_path\u001b[38;5;241m.\u001b[39mexists():\n\u001b[1;32m     28\u001b[0m     logger\u001b[38;5;241m.\u001b[39minfo(\u001b[38;5;124mf\u001b[39m\u001b[38;5;124m\"\u001b[39m\u001b[38;5;124mDownloading MoveNet model: \u001b[39m\u001b[38;5;132;01m{\u001b[39;00mmodel_type\u001b[38;5;132;01m}\u001b[39;00m\u001b[38;5;124m\"\u001b[39m)\n\u001b[0;32m---> 29\u001b[0m     \u001b[38;5;28;43mself\u001b[39;49m\u001b[38;5;241;43m.\u001b[39;49m\u001b[43mdownload_tflite_model\u001b[49m\u001b[43m(\u001b[49m\u001b[43mmodel_type\u001b[49m\u001b[43m,\u001b[49m\u001b[43m \u001b[49m\u001b[43mmodel_path\u001b[49m\u001b[43m)\u001b[49m\n\u001b[1;32m     31\u001b[0m \u001b[38;5;28;01mtry\u001b[39;00m:\n\u001b[1;32m     32\u001b[0m     \u001b[38;5;28mself\u001b[39m\u001b[38;5;241m.\u001b[39mmodel \u001b[38;5;241m=\u001b[39m tflite\u001b[38;5;241m.\u001b[39mInterpreter(model_path\u001b[38;5;241m=\u001b[39m\u001b[38;5;28mstr\u001b[39m(model_path))\n",
      "Cell \u001b[0;32mIn[4], line 60\u001b[0m, in \u001b[0;36mPreparePoseEstimationModel.download_tflite_model\u001b[0;34m(self, model_type, save_path)\u001b[0m\n\u001b[1;32m     58\u001b[0m     \u001b[38;5;28mprint\u001b[39m(\u001b[38;5;124mf\u001b[39m\u001b[38;5;124m\"\u001b[39m\u001b[38;5;124m❌ Error: \u001b[39m\u001b[38;5;132;01m{\u001b[39;00msave_path\u001b[38;5;132;01m}\u001b[39;00m\u001b[38;5;124m is too small! The download might be incomplete.\u001b[39m\u001b[38;5;124m\"\u001b[39m)\n\u001b[1;32m     59\u001b[0m     os\u001b[38;5;241m.\u001b[39mremove(save_path)  \u001b[38;5;66;03m# Delete corrupted file\u001b[39;00m\n\u001b[0;32m---> 60\u001b[0m     \u001b[38;5;28;01mraise\u001b[39;00m \u001b[38;5;167;01mRuntimeError\u001b[39;00m(\u001b[38;5;124m\"\u001b[39m\u001b[38;5;124mDownloaded MoveNet model is invalid.\u001b[39m\u001b[38;5;124m\"\u001b[39m)\n\u001b[1;32m     62\u001b[0m \u001b[38;5;28mprint\u001b[39m(\u001b[38;5;124mf\u001b[39m\u001b[38;5;124m\"\u001b[39m\u001b[38;5;124m✅ MoveNet \u001b[39m\u001b[38;5;132;01m{\u001b[39;00mmodel_type\u001b[38;5;132;01m}\u001b[39;00m\u001b[38;5;124m model downloaded successfully to \u001b[39m\u001b[38;5;132;01m{\u001b[39;00msave_path\u001b[38;5;132;01m}\u001b[39;00m\u001b[38;5;124m\"\u001b[39m)\n",
      "\u001b[0;31mRuntimeError\u001b[0m: Downloaded MoveNet model is invalid."
     ]
    }
   ],
   "source": [
    "try:\n",
    "    config = ConfigurationManager()\n",
    "    prepare_pose_estimation_model_config = config.get_pose_estimation_config()\n",
    "    prepare_pose_estimation_model = PreparePoseEstimationModel(prepare_pose_estimation_model_config)\n",
    "    prepare_pose_estimation_model.get_base_model()\n",
    "except Exception as e:\n",
    "    raise e"
   ]
  }
 ],
 "metadata": {
  "kernelspec": {
   "display_name": "humanenv",
   "language": "python",
   "name": "python3"
  },
  "language_info": {
   "codemirror_mode": {
    "name": "ipython",
    "version": 3
   },
   "file_extension": ".py",
   "mimetype": "text/x-python",
   "name": "python",
   "nbconvert_exporter": "python",
   "pygments_lexer": "ipython3",
   "version": "3.9.21"
  }
 },
 "nbformat": 4,
 "nbformat_minor": 2
}
