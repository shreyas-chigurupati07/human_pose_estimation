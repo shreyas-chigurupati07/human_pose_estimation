{
 "cells": [
  {
   "cell_type": "code",
   "execution_count": 1,
   "metadata": {},
   "outputs": [
    {
     "name": "stdout",
     "output_type": "stream",
     "text": [
      "/Users/shrey/Desktop/github/human_pose_estimation\n"
     ]
    }
   ],
   "source": [
    "import os\n",
    "os.chdir('../')\n",
    "!pwd"
   ]
  },
  {
   "cell_type": "code",
   "execution_count": 2,
   "metadata": {},
   "outputs": [
    {
     "name": "stdout",
     "output_type": "stream",
     "text": [
      "[('PE/0.jpg', [(1371.13, 1385.42, 1.0), (1955.6, 3161.29, 1.0), (1759.91, 2711.4, 1.0), (1447.13, 2276.73, 1.0), (1455.34, 1206.07, 1.0), (1914.41, 1126.0, 1.0), (974.97, 993.31, 1.0), (2164.0, 635.83, 1.0), (810.17, 465.79, 1.0), (1498.79, 1104.81, 1.0), (1627.15, 1471.94, 1.0), (1790.43, 3424.59, 1.0), (1264.05, 1202.17, 1.0), (1686.8, 2796.22, 1.0), (1479.86, 1139.97, 1.0), (1670.54, 2201.51, 1.0), (1376.01, 1169.18, 1.0)]), ('PE/1.jpg', [(922.88, 3542.87, 1.0), (2112.12, 1914.71, 1.0), (1953.96, 1380.19, 1.0), (1075.83, 2846.31, 1.0), (797.87, 4250.9, 1.0), (1243.42, 1585.26, 1.0), (1835.28, 4288.75, 1.0), (1457.7, 1555.9, 1.0), (1383.1, 1489.38, 1.0), (1469.62, 1517.95, 1.0), (1497.14, 1504.75, 1.0), (555.62, 2072.72, 1.0), (1593.8, 3532.2, 1.0), (554.75, 1571.32, 1.0), (1379.63, 1812.04, 1.0), (1674.58, 1882.38, 1.0), (978.18, 1906.83, 1.0)]), ('PE/10.jpg', [(1342.18, 3173.2, 1.0), (1586.36, 3247.83, 1.0), (838.59, 2883.36, 1.0), (1421.88, 2826.12, 1.0), (1802.47, 1783.23, 1.0), (1919.46, 1774.53, 1.0), (1780.43, 1788.39, 1.0), (1976.06, 2068.8, 1.0), (2057.8, 1773.97, 1.0), (1593.61, 2087.05, 1.0), (2206.31, 3064.37, 1.0), (2415.28, 1631.87, 1.0), (1171.18, 2305.87, 1.0), (2503.54, 1311.72, 1.0), (640.9, 2386.54, 1.0), (1342.18, 2780.47, 1.0), (2109.22, 1893.58, 1.0)])]\n"
     ]
    }
   ],
   "source": [
    "from cnnEstimation.utils.common import *\n",
    "from pathlib import Path\n",
    "\n",
    "xml_path = Path('data/annotations.xml')\n",
    "movenet_data = convert_xml_to_movenet(xml_path)\n",
    "\n",
    "print(list(movenet_data.items())[:3])"
   ]
  },
  {
   "cell_type": "code",
   "execution_count": null,
   "metadata": {},
   "outputs": [],
   "source": []
  }
 ],
 "metadata": {
  "kernelspec": {
   "display_name": "humanenv",
   "language": "python",
   "name": "python3"
  },
  "language_info": {
   "codemirror_mode": {
    "name": "ipython",
    "version": 3
   },
   "file_extension": ".py",
   "mimetype": "text/x-python",
   "name": "python",
   "nbconvert_exporter": "python",
   "pygments_lexer": "ipython3",
   "version": "3.9.21"
  }
 },
 "nbformat": 4,
 "nbformat_minor": 2
}
